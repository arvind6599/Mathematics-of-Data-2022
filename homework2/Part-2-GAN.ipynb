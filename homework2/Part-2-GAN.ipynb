{
 "cells": [
  {
   "cell_type": "code",
   "execution_count": 42,
   "metadata": {},
   "outputs": [],
   "source": [
    "from IPython.display import Image\n",
    "from lib.utils import *"
   ]
  },
  {
   "cell_type": "markdown",
   "metadata": {},
   "source": [
    "# Generative Adversarial Networks - 50 points\n",
    "\n",
    "Please review Lectures 10-11 for the notation and the setup in this exercise.\n",
    "\n",
    "As a basic example for the implementation of GANs, we will try to learn the density of a 2D mixture of Gaussian (MoG) distribution from empirical samples using the Wasserstein GAN (WGAN) framework. MoG distributions are multi-modal, and allow to us visualize multiple \"modes\" of the distribution. \n",
    "\n",
    "Both your generator neural network $h_\\mathbf{x}$ and dual variable neural network $\\mathtt{d}_\\mathbf{y}$ are defined as two hidden layer networks:\n",
    "\n",
    "\\begin{equation}\n",
    "    \\mathcal{H}:=\\{h: h_{\\mathbf{x}}(\\omega)=X_3\\texttt{relu}(X_2\\texttt{relu}(X_1 \\omega + x_1)+ x_2) + x_3\\},\n",
    "    \\qquad \\mathcal{D}:= \\{\\mathtt{d}: \\mathtt{d}_{\\mathbf{x}}({\\bf a})=\n",
    "    Y_3\\texttt{relu}(Y_2\\texttt{relu}(Y_1 {\\bf a} + y_1)+ y_2)+y_3\\},\n",
    "\\end{equation}\n",
    "\n",
    "where $\\mathbf{x} =[x_1;x_2;{X_1};{X_2}; X_3]$ are the \"generator\" parameters, and $\\mathbf{y} =[y_1;y_2;{Y_1};{Y_2}; Y_3] $ are the\n",
    "\"dual\" or the \"discriminator\" parameters. The dimensions of these parameters will be apparent from the context as well as the base code provided along with the homework. \n",
    "\n",
    "In the following cells, you will implement the two neural networks as well as the spectral normalization ([Myato 2018](https://arxiv.org/abs/1802.05957)) method that enforces a Lipschitz constraint."
   ]
  },
  {
   "cell_type": "markdown",
   "metadata": {},
   "source": [
    "**(1)** (3 points) Implement a two hidden layer MLP with ReLU below for the generator. See `torch.nn.Sequential` docs for a start."
   ]
  },
  {
   "cell_type": "code",
   "execution_count": 43,
   "metadata": {},
   "outputs": [],
   "source": [
    "class Generator(nn.Module):\n",
    "\n",
    "    def __init__(self, noise_dim=2, output_dim=2, hidden_dim=100):\n",
    "        super().__init__()\n",
    "        \n",
    "        self.inner = torch.nn.Sequential(nn.Linear(noise_dim,hidden_dim), nn.ReLU(), nn.Linear(hidden_dim,hidden_dim), nn.ReLU(), nn.Linear(hidden_dim,output_dim))\n",
    "\n",
    "    def forward(self, z):\n",
    "        return self.inner(z)"
   ]
  },
  {
   "cell_type": "markdown",
   "metadata": {},
   "source": [
    "**(2)** (20 points) Implement a two hidden layer MLP with ReLU below for the Discriminator and implement the spectral normalization method.\n",
    "\n",
    "**Remark:** The `spectral_normalization` does not need to return a value. It should modify the parameters $\\mathbf{y}$ of the dual network $\\mathtt{d}_{\\mathbf{y}}$ in place. Remember not to track gradients in those operations."
   ]
  },
  {
   "cell_type": "code",
   "execution_count": 44,
   "metadata": {},
   "outputs": [],
   "source": [
    "class DualVariable(nn.Module):\n",
    "\n",
    "    def __init__(self, input_dim=2, hidden_dim=100, c=1e-5):\n",
    "        super().__init__()\n",
    "        self.c = c\n",
    "        \n",
    "        self.inner = torch.nn.Sequential(nn.Linear(input_dim,hidden_dim), nn.ReLU(), nn.Linear(hidden_dim,hidden_dim), nn.ReLU(), nn.Linear(hidden_dim,1))\n",
    "\n",
    "    def forward(self, x):\n",
    "        return self.inner(x)\n",
    "\n",
    "    def enforce_lipschitz(self):\n",
    "        self.spectral_normalisation()\n",
    "\n",
    "    def spectral_normalisation(self):\n",
    "        \"\"\"\n",
    "        Perform spectral normalisation, forcing the singular value of the weights to be upper bounded by 1.\n",
    "        \"\"\"\n",
    "        with torch.no_grad():\n",
    "           for name, param in self.named_parameters():\n",
    "                if 'weight' in name:\n",
    "                    # spectal normalization reduces to division by l-2 norm for a weight vector\n",
    "                    norm_weights = param/(torch.linalg.norm(param, ord = 2))\n",
    "\n",
    "                    param.copy_(norm_weights)"
   ]
  },
  {
   "cell_type": "markdown",
   "metadata": {},
   "source": [
    "**(3)** (2 points) Spectral Normalization applied to a matrix outputs a matrix whose largest singular value is upper bounded by one. Is Spectral Normalization a projection (in the $\\ell_2$ sense) ? Think of a diagonal square matrix and try figure out what spectral normalization does and compare that to what a projection onto the set of matrices with largest singular value less than 1 would do."
   ]
  },
  {
   "cell_type": "markdown",
   "metadata": {},
   "source": [
    "$\\textbf{Ans.}$ The output of Spectral Normalization on Matrix M is given by $X_1 = M/\\sigma(M)$ where $\\sigma(M)$ represents the largest singular value of the Matrix M. $\\newline$ For a set $A \\coloneqq \\{X\\in A: \\sigma(X)\\leq 1\\}$ represents the set of matrices with the largest singular value less than or equal to 1. $\\newline$ Then we can pose the problem of projection to A (in the $\\ell$-2 sense) as $X_2(M) = \\argmin_{X \\in A} \\|X - M\\|_F$. \n",
    "\n",
    "As suggested in the Hint, lets take $ M = \\begin{bmatrix} 2 & 0 \\\\ 0 & 1 \\end{bmatrix}$ then we have, $\\newline$\n",
    "$$\n",
    "    X_1(M) = \\frac{M}{2} = \\begin{bmatrix} 1 & 0 \\\\ 0 & 1/2 \\end{bmatrix} \\newline\n",
    "    X_2(M) =  \\begin{bmatrix} 1 & 0 \\\\ 0 & 1 \\end{bmatrix} \\newline\n",
    "$$\n",
    "Since $X_1 \\ne X_2$ for the chosen M, we can conclude that Spectral Normalization is not a projection (in the $\\ell_2$ sense)."
   ]
  },
  {
   "cell_type": "markdown",
   "metadata": {},
   "source": [
    "**(3)** (1 point) Implement a stochastic estimate of the objective function of the minimax game (in the cell below):\n",
    "\n",
    "$$\n",
    "\\min_{\\mathbf{x} \\in \\mathcal{X}} \\max_{\\mathbf{y} \\in \\mathcal{Y}} \n",
    "\\mathbb{E}[\\mathtt{d}_{\\mathbf{y}}({\\bf a})] - \\mathbb{E}[\\mathtt{d}_{\\mathbf{y}}(h_{\\mathbf{x}}(\\omega))] = \n",
    "\\min_{h \\in \\mathcal{H}} \\max_{\\mathtt{d} \\in \\mathcal{F}}\n",
    "\\mathbb{E}[\\mathtt{d}({\\bf a})] - \\mathbb{E}[\\mathtt{d}(h(\\omega))],\n",
    "$$"
   ]
  },
  {
   "cell_type": "code",
   "execution_count": 45,
   "metadata": {},
   "outputs": [],
   "source": [
    "def objective(d, g, data_sample, noise_sample):\n",
    "    # calculating stochastic estimate using the empirical mean\n",
    "    W1 = d(data_sample).mean() - d(g(noise_sample)).mean()\n",
    "    return W1"
   ]
  },
  {
   "cell_type": "markdown",
   "metadata": {},
   "source": [
    "**(4)** (20 points) Implement an alternating gradient ascent/descent update, training the generator 1 time for every 5 dual updates. More specifically, you will implement the conceptual algorithm below using the parameters of the neural networks\n",
    "\n",
    "$$\n",
    "\\begin{aligned}\n",
    "\\mathtt{d}^{k+1} &= \\text{EnforceLipschitz} (\\mathtt{d}^k + \\gamma \\text{SG}_\\mathtt{d}(\\mathtt{d}^k, h^kk)), && \\text{(if $k$ mod $5 \\neq 0$) }\\\\\n",
    "h^{k+1} &= h^{k} - \\gamma \\text{SG}_h(\\mathtt{d}^{k+1}, h^k) && \\text{(if $k$ mod $5 =0$)},\n",
    "\\end{aligned}\n",
    "$$\n",
    "\n",
    "where $\\text{SG}$ is the stochastic gradient oracle. To perform the optimization, you have two `Pytorch` optimizers `d_optim` and `g_optim`, which have a `.step()` method that updates the discriminator and generator parameters respectively.\n",
    "\n",
    "Use the objective function you have just written. The iteration count is held by the `step_k` argument. The agument `d_ratio` defines how many more times we train the discriminator that train the generator. \n",
    "\n",
    "For later, to display the progress, write the function so that it returns the value of the objective function.\n",
    "\n",
    "**Hints**: Don't forget that the generator seeks to minimize and the discriminator seeks to maximize. Pytorch optimizers step in the _negative_ gradient direction, keep that in mind."
   ]
  },
  {
   "cell_type": "code",
   "execution_count": 46,
   "metadata": {},
   "outputs": [],
   "source": [
    "def alternating_update(step_k, d, g, d_optim, g_optim, noise_samples, real_samples, d_ratio=5):\n",
    "    \n",
    "    l = objective(d, g, real_samples, noise_samples)\n",
    "\n",
    "    if step_k % d_ratio==0:\n",
    "        d.eval()\n",
    "        g.train()\n",
    "\n",
    "        l.backward()\n",
    "\n",
    "        g_optim.step()\n",
    "\n",
    "    else:\n",
    "        d.train()\n",
    "        g.eval()\n",
    "\n",
    "        loss = -l\n",
    "        loss.backward()\n",
    "\n",
    "        d_optim.step()\n",
    "        \n",
    "        #Enforce 1-lipschitz contraint on the discriminator weights after the updates\n",
    "        d.enforce_lipschitz()\n",
    "    \n",
    "    g_optim.zero_grad()\n",
    "    d_optim.zero_grad()\n",
    "\n",
    "    return l"
   ]
  },
  {
   "cell_type": "markdown",
   "metadata": {},
   "source": [
    "With all the ingredients in hand, we can train our GAN.\n",
    "\n",
    "The following cell defines the two networks."
   ]
  },
  {
   "cell_type": "code",
   "execution_count": 59,
   "metadata": {},
   "outputs": [],
   "source": [
    "hidden_dim = 20\n",
    "d = DualVariable(input_dim=2, hidden_dim=hidden_dim, c=1.0)\n",
    "g = Generator(noise_dim=2, output_dim=2, hidden_dim=hidden_dim)"
   ]
  },
  {
   "cell_type": "markdown",
   "metadata": {},
   "source": [
    "**(5)** (2 points) Define an optimizer for each of the networks. We recommend choosing `Adam` with betas $(0.0, 0.9)$."
   ]
  },
  {
   "cell_type": "code",
   "execution_count": 60,
   "metadata": {},
   "outputs": [],
   "source": [
    "d_optim = torch.optim.Adam(d.parameters(), betas=(0, 0.9), lr = 0.03)\n",
    "g_optim = torch.optim.Adam(g.parameters(), betas=(0, 0.9), lr = 0.03)"
   ]
  },
  {
   "cell_type": "markdown",
   "metadata": {},
   "source": [
    "The following cell runs the training loop for 2000 iterations, this might take a few minutes."
   ]
  },
  {
   "cell_type": "code",
   "execution_count": 61,
   "metadata": {},
   "outputs": [
    {
     "data": {
      "image/png": "[encoded data removed]",
      "text/plain": [
       "<Figure size 640x480 with 1 Axes>"
      ]
     },
     "metadata": {},
     "output_type": "display_data"
    },
    {
     "name": "stderr",
     "output_type": "stream",
     "text": [
      "W1:0.12 GTrue: 100%|██████████| 2000/2000 [09:53<00:00,  3.37it/s]     \n"
     ]
    },
    {
     "data": {
      "text/plain": [
       "<Figure size 640x480 with 0 Axes>"
      ]
     },
     "metadata": {},
     "output_type": "display_data"
    }
   ],
   "source": [
    "train(d, g, d_optim, g_optim, alternating_update, n_iter=2000)"
   ]
  },
  {
   "cell_type": "markdown",
   "metadata": {},
   "source": [
    "Once the training is complete, you can visualize the training process in the following gif. (If you encounter problems seeing the gif, open it in a separate tab, it can be found in the same directory as this notebook)."
   ]
  },
  {
   "cell_type": "code",
   "execution_count": null,
   "metadata": {},
   "outputs": [],
   "source": [
    "Image(\"movie.gif\")"
   ]
  },
  {
   "cell_type": "markdown",
   "metadata": {},
   "source": [
    "**(6)** (2 points) Briefly comment on what you observe. Play with the network sizes, the step sizes, the number of iterations, all while keeping in mind the difficulties of min-max optimization you've analyzed in the previous notebook."
   ]
  },
  {
   "cell_type": "markdown",
   "metadata": {},
   "source": [
    "After playing with the different parameters I observed the following on variation of the different parameters :\n",
    "1. Step size : Larger step sizes like 0.5 or 0.1 lead to large fluctuations in objective value, suggesting that the step sizes must be much smaller. I observed the best reults around step size = 0.03, where the movie.gif was visibly learning the underlying distribution over the iterations.\n",
    "2. Number of iterations : The model displays good convergence around 1000 iterations and then keeps trying to figure out better fits for the data samples.\n",
    "3. Network size: The network size should be big enough to account for the varibles in the data sample distribution. I observed poor performance for larger network sizes e.g. 100 hidden dimensions. 20 hidden dimensions seemed to give good performance and reliable convergence behaviour for the given problem."
   ]
  }
 ],
 "metadata": {
  "jupytext": {
   "custom_cell_magics": "kql",
   "formats": "ipynb,py:percent,md"
  },
  "kernelspec": {
   "display_name": "Python 3.9.13 ('mod')",
   "language": "python",
   "name": "python3"
  },
  "language_info": {
   "codemirror_mode": {
    "name": "ipython",
    "version": 3
   },
   "file_extension": ".py",
   "mimetype": "text/x-python",
   "name": "python",
   "nbconvert_exporter": "python",
   "pygments_lexer": "ipython3",
   "version": "3.9.15"
  },
  "vscode": {
   "interpreter": {
    "hash": "f8bdd3ae39551a42de070c19b4f54000b926d4e939f770b8d96bc96c7c86875f"
   }
  }
 },
 "nbformat": 4,
 "nbformat_minor": 4
}
